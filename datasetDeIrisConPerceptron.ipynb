{
  "nbformat": 4,
  "nbformat_minor": 0,
  "metadata": {
    "colab": {
      "provenance": [],
      "include_colab_link": true
    },
    "kernelspec": {
      "name": "python3",
      "display_name": "Python 3"
    },
    "language_info": {
      "name": "python"
    }
  },
  "cells": [
    {
      "cell_type": "markdown",
      "metadata": {
        "id": "view-in-github",
        "colab_type": "text"
      },
      "source": [
        "<a href=\"https://colab.research.google.com/github/Yaki-55/machineLearning/blob/main/datasetDeIrisConPerceptron.ipynb\" target=\"_parent\"><img src=\"https://colab.research.google.com/assets/colab-badge.svg\" alt=\"Open In Colab\"/></a>"
      ]
    },
    {
      "cell_type": "markdown",
      "source": [
        "# Cargando bibliotecas"
      ],
      "metadata": {
        "id": "Tl3OF5N1q06H"
      }
    },
    {
      "cell_type": "code",
      "execution_count": null,
      "metadata": {
        "id": "CNEIqqcRpRoj"
      },
      "outputs": [],
      "source": [
        "from sklearn import datasets\n",
        "import pandas as pd\n",
        "import numpy as np\n",
        "\n",
        "import matplotlib.pyplot as plt"
      ]
    },
    {
      "cell_type": "markdown",
      "source": [
        "# Cargando el conjunto de datos"
      ],
      "metadata": {
        "id": "-sd7ngW-rQbG"
      }
    },
    {
      "cell_type": "code",
      "source": [
        "iris = datasets.load_iris()"
      ],
      "metadata": {
        "id": "SbvLOYIGqmno"
      },
      "execution_count": null,
      "outputs": []
    },
    {
      "cell_type": "code",
      "source": [
        "iris.keys()"
      ],
      "metadata": {
        "colab": {
          "base_uri": "https://localhost:8080/"
        },
        "id": "zLEQ9KDLrDh-",
        "outputId": "a6bb8906-d55b-4998-a52b-a2a1a46190d1"
      },
      "execution_count": null,
      "outputs": [
        {
          "output_type": "execute_result",
          "data": {
            "text/plain": [
              "dict_keys(['data', 'target', 'frame', 'target_names', 'DESCR', 'feature_names', 'filename', 'data_module'])"
            ]
          },
          "metadata": {},
          "execution_count": 102
        }
      ]
    },
    {
      "cell_type": "code",
      "source": [
        "iris['data'][1:150:50]"
      ],
      "metadata": {
        "colab": {
          "base_uri": "https://localhost:8080/"
        },
        "id": "UdM5YjjRrXNV",
        "outputId": "d43a4c2f-7f8a-4832-dc97-e946b83b1a28"
      },
      "execution_count": null,
      "outputs": [
        {
          "output_type": "execute_result",
          "data": {
            "text/plain": [
              "array([[4.9, 3. , 1.4, 0.2],\n",
              "       [6.4, 3.2, 4.5, 1.5],\n",
              "       [5.8, 2.7, 5.1, 1.9]])"
            ]
          },
          "metadata": {},
          "execution_count": 103
        }
      ]
    },
    {
      "cell_type": "code",
      "source": [
        "iris['target'][1:150:50]"
      ],
      "metadata": {
        "colab": {
          "base_uri": "https://localhost:8080/"
        },
        "id": "MWeefPKVrwaN",
        "outputId": "c33d5123-c076-403f-d4a3-b6b7d4c9621c"
      },
      "execution_count": null,
      "outputs": [
        {
          "output_type": "execute_result",
          "data": {
            "text/plain": [
              "array([0, 1, 2])"
            ]
          },
          "metadata": {},
          "execution_count": 104
        }
      ]
    },
    {
      "cell_type": "code",
      "source": [
        "iris['target_names']"
      ],
      "metadata": {
        "colab": {
          "base_uri": "https://localhost:8080/"
        },
        "id": "NE3l6SFvrbPv",
        "outputId": "7a43daae-7338-4a01-dca7-5894174c1c37"
      },
      "execution_count": null,
      "outputs": [
        {
          "output_type": "execute_result",
          "data": {
            "text/plain": [
              "array(['setosa', 'versicolor', 'virginica'], dtype='<U10')"
            ]
          },
          "metadata": {},
          "execution_count": 105
        }
      ]
    },
    {
      "cell_type": "code",
      "source": [
        "#print(iris['DESCR'])"
      ],
      "metadata": {
        "id": "RuGebFoGsBVV"
      },
      "execution_count": null,
      "outputs": []
    },
    {
      "cell_type": "code",
      "source": [
        "col1 = 3\n",
        "col2 = 1\n",
        "plt.scatter(iris['data'][0:50, col1], iris['data'][0:50, col2] )\n",
        "plt.scatter(iris['data'][50:100, col1], iris['data'][50:100, col2] )\n",
        "plt.scatter(iris['data'][100:150, col1], iris['data'][100:150, col2] )\n",
        "#.plot( iris['data'][:, 0], iris['data'][:, 1] )"
      ],
      "metadata": {
        "colab": {
          "base_uri": "https://localhost:8080/",
          "height": 450
        },
        "id": "2Po3WfXztf2-",
        "outputId": "845c119f-38bf-4450-ba6a-bbc33dbaf007"
      },
      "execution_count": null,
      "outputs": [
        {
          "output_type": "execute_result",
          "data": {
            "text/plain": [
              "<matplotlib.collections.PathCollection at 0x78027d9f9600>"
            ]
          },
          "metadata": {},
          "execution_count": 107
        },
        {
          "output_type": "display_data",
          "data": {
            "text/plain": [
              "<Figure size 640x480 with 1 Axes>"
            ],
            "image/png": "[encoded data removed]"
          },
          "metadata": {}
        }
      ]
    },
    {
      "cell_type": "code",
      "source": [
        "type( iris['data'] )"
      ],
      "metadata": {
        "colab": {
          "base_uri": "https://localhost:8080/"
        },
        "collapsed": true,
        "id": "KFAVvSYwsdWk",
        "outputId": "935ca88c-206c-4adf-ca0f-a778892bd3b8"
      },
      "execution_count": null,
      "outputs": [
        {
          "output_type": "execute_result",
          "data": {
            "text/plain": [
              "numpy.ndarray"
            ]
          },
          "metadata": {},
          "execution_count": 108
        }
      ]
    },
    {
      "cell_type": "code",
      "source": [
        "iris['data'].shape"
      ],
      "metadata": {
        "colab": {
          "base_uri": "https://localhost:8080/"
        },
        "id": "gcPmILyBwPfg",
        "outputId": "842244be-f789-4955-f4ed-675c9b0339e5"
      },
      "execution_count": null,
      "outputs": [
        {
          "output_type": "execute_result",
          "data": {
            "text/plain": [
              "(150, 4)"
            ]
          },
          "metadata": {},
          "execution_count": 109
        }
      ]
    },
    {
      "cell_type": "code",
      "source": [
        "unos = np.ones( (150, 1))\n",
        "# unos"
      ],
      "metadata": {
        "id": "tx3dkq5EwJsA"
      },
      "execution_count": null,
      "outputs": []
    },
    {
      "cell_type": "code",
      "source": [
        "X = np.concatenate( ( unos, iris['data']  ), axis = 1  )\n",
        "X[0:150:10]"
      ],
      "metadata": {
        "id": "7ODrVYBxwgbD",
        "colab": {
          "base_uri": "https://localhost:8080/"
        },
        "outputId": "57b404a1-e712-41ac-be4d-e76aee54657a"
      },
      "execution_count": null,
      "outputs": [
        {
          "output_type": "execute_result",
          "data": {
            "text/plain": [
              "array([[1. , 5.1, 3.5, 1.4, 0.2],\n",
              "       [1. , 5.4, 3.7, 1.5, 0.2],\n",
              "       [1. , 5.4, 3.4, 1.7, 0.2],\n",
              "       [1. , 4.8, 3.1, 1.6, 0.2],\n",
              "       [1. , 5. , 3.5, 1.3, 0.3],\n",
              "       [1. , 7. , 3.2, 4.7, 1.4],\n",
              "       [1. , 5. , 2. , 3.5, 1. ],\n",
              "       [1. , 5.9, 3.2, 4.8, 1.8],\n",
              "       [1. , 5.5, 2.4, 3.8, 1.1],\n",
              "       [1. , 5.5, 2.6, 4.4, 1.2],\n",
              "       [1. , 6.3, 3.3, 6. , 2.5],\n",
              "       [1. , 6.5, 3.2, 5.1, 2. ],\n",
              "       [1. , 6.9, 3.2, 5.7, 2.3],\n",
              "       [1. , 7.4, 2.8, 6.1, 1.9],\n",
              "       [1. , 6.7, 3.1, 5.6, 2.4]])"
            ]
          },
          "metadata": {},
          "execution_count": 111
        }
      ]
    },
    {
      "cell_type": "markdown",
      "source": [
        "## Etiquetamiento de los datos\n",
        "Se tomarà la clase 0 con valores en las etiquetas de 1, las demás clases serán de etiqueta -1\n",
        "\n",
        "| a | b |\n",
        "|---|---|\n",
        "| c1 | +1 |\n",
        "| c2 | -1 |\n",
        "| c3 | -1 |"
      ],
      "metadata": {
        "id": "CuNzppbkyGiA"
      }
    },
    {
      "cell_type": "code",
      "source": [
        "(iris['target']==0)*2-1"
      ],
      "metadata": {
        "colab": {
          "base_uri": "https://localhost:8080/"
        },
        "id": "ZrryMRg1wvmi",
        "outputId": "70af6fdd-6214-4109-82be-4458b733b3ff"
      },
      "execution_count": null,
      "outputs": [
        {
          "output_type": "execute_result",
          "data": {
            "text/plain": [
              "array([ 1,  1,  1,  1,  1,  1,  1,  1,  1,  1,  1,  1,  1,  1,  1,  1,  1,\n",
              "        1,  1,  1,  1,  1,  1,  1,  1,  1,  1,  1,  1,  1,  1,  1,  1,  1,\n",
              "        1,  1,  1,  1,  1,  1,  1,  1,  1,  1,  1,  1,  1,  1,  1,  1, -1,\n",
              "       -1, -1, -1, -1, -1, -1, -1, -1, -1, -1, -1, -1, -1, -1, -1, -1, -1,\n",
              "       -1, -1, -1, -1, -1, -1, -1, -1, -1, -1, -1, -1, -1, -1, -1, -1, -1,\n",
              "       -1, -1, -1, -1, -1, -1, -1, -1, -1, -1, -1, -1, -1, -1, -1, -1, -1,\n",
              "       -1, -1, -1, -1, -1, -1, -1, -1, -1, -1, -1, -1, -1, -1, -1, -1, -1,\n",
              "       -1, -1, -1, -1, -1, -1, -1, -1, -1, -1, -1, -1, -1, -1, -1, -1, -1,\n",
              "       -1, -1, -1, -1, -1, -1, -1, -1, -1, -1, -1, -1, -1, -1])"
            ]
          },
          "metadata": {},
          "execution_count": 112
        }
      ]
    },
    {
      "cell_type": "code",
      "source": [
        "Y = ((iris['target']==0)*2-1).reshape( (iris['target'].size, 1) )\n",
        "Y[0:150:10]"
      ],
      "metadata": {
        "colab": {
          "base_uri": "https://localhost:8080/"
        },
        "id": "z7DDx6-Js5ye",
        "outputId": "4b9b367c-1e80-4ea3-b96e-5f34c7538af3"
      },
      "execution_count": null,
      "outputs": [
        {
          "output_type": "execute_result",
          "data": {
            "text/plain": [
              "array([[ 1],\n",
              "       [ 1],\n",
              "       [ 1],\n",
              "       [ 1],\n",
              "       [ 1],\n",
              "       [-1],\n",
              "       [-1],\n",
              "       [-1],\n",
              "       [-1],\n",
              "       [-1],\n",
              "       [-1],\n",
              "       [-1],\n",
              "       [-1],\n",
              "       [-1],\n",
              "       [-1]])"
            ]
          },
          "metadata": {},
          "execution_count": 113
        }
      ]
    },
    {
      "cell_type": "markdown",
      "source": [
        "# Funcion signo"
      ],
      "metadata": {
        "id": "bH6hRJ_T5SAw"
      }
    },
    {
      "cell_type": "code",
      "source": [
        "def signo(x):\n",
        "  \"\"\"\n",
        "  x >=0  True / false\n",
        "\n",
        "  (x >=0) *2 +1  --> +1  -1\n",
        "  \"\"\"\n",
        "  return (x >=0 )*2 -1"
      ],
      "metadata": {
        "id": "DeNF91Pj5Sfw"
      },
      "execution_count": null,
      "outputs": []
    },
    {
      "cell_type": "markdown",
      "source": [
        "# Inicializaciòn de Pesos"
      ],
      "metadata": {
        "id": "fVU1azR83Gde"
      }
    },
    {
      "cell_type": "code",
      "source": [
        "# inicializacion de 1x5 con valores entre +/- 0.1\n",
        "W = np.random.random( (5, 1))*0.2-0.1\n",
        "W"
      ],
      "metadata": {
        "colab": {
          "base_uri": "https://localhost:8080/"
        },
        "id": "qQUDQhIFzYaL",
        "outputId": "944c8439-0a4c-4819-dba5-83d02bdb996f"
      },
      "execution_count": null,
      "outputs": [
        {
          "output_type": "execute_result",
          "data": {
            "text/plain": [
              "array([[0.08698433],\n",
              "       [0.09634066],\n",
              "       [0.02038583],\n",
              "       [0.06335154],\n",
              "       [0.04323512]])"
            ]
          },
          "metadata": {},
          "execution_count": 115
        }
      ]
    },
    {
      "cell_type": "code",
      "source": [],
      "metadata": {
        "id": "VAb-07WF3_CT"
      },
      "execution_count": null,
      "outputs": []
    },
    {
      "cell_type": "code",
      "source": [
        "indice = 1\n",
        "X1 = X[indice].reshape( (-1, 5))\n",
        "D1 = Y[indice]"
      ],
      "metadata": {
        "id": "39TWJ7_T3VYX"
      },
      "execution_count": null,
      "outputs": []
    },
    {
      "cell_type": "code",
      "source": [
        "Y1 = X1.dot(W)\n",
        "Y1"
      ],
      "metadata": {
        "colab": {
          "base_uri": "https://localhost:8080/"
        },
        "id": "zjyxpsKS4_12",
        "outputId": "a0711514-f960-4084-8b47-8f5bbfeee8bd"
      },
      "execution_count": null,
      "outputs": [
        {
          "output_type": "execute_result",
          "data": {
            "text/plain": [
              "array([[0.71755025]])"
            ]
          },
          "metadata": {},
          "execution_count": 117
        }
      ]
    },
    {
      "cell_type": "code",
      "source": [
        "signo(Y1)"
      ],
      "metadata": {
        "colab": {
          "base_uri": "https://localhost:8080/"
        },
        "id": "bArF0NGq54S7",
        "outputId": "d94cd0d4-7363-4adf-a3ab-45a86fad108a"
      },
      "execution_count": null,
      "outputs": [
        {
          "output_type": "execute_result",
          "data": {
            "text/plain": [
              "array([[1]])"
            ]
          },
          "metadata": {},
          "execution_count": 118
        }
      ]
    },
    {
      "cell_type": "code",
      "source": [
        "# factor de aprendizaje / learning rate\n",
        "\n",
        "alpha = 0.1\n",
        "#print(W)\n",
        "#W =  W + alpha * ( D1 - Y1 ) * X1.T\n",
        "#print(W)"
      ],
      "metadata": {
        "id": "OatWa7Fb54VK"
      },
      "execution_count": null,
      "outputs": []
    },
    {
      "cell_type": "code",
      "source": [
        "X.shape"
      ],
      "metadata": {
        "colab": {
          "base_uri": "https://localhost:8080/"
        },
        "id": "3mKhEhl88Pdm",
        "outputId": "0e390b2a-4b92-4dd0-8496-48840ffb775c"
      },
      "execution_count": null,
      "outputs": [
        {
          "output_type": "execute_result",
          "data": {
            "text/plain": [
              "(150, 5)"
            ]
          },
          "metadata": {},
          "execution_count": 120
        }
      ]
    },
    {
      "cell_type": "code",
      "source": [
        "indices = np.arange(150)\n",
        "np.random.shuffle(indices)\n",
        "#indices"
      ],
      "metadata": {
        "id": "o60Sccua8Zw2"
      },
      "execution_count": null,
      "outputs": []
    },
    {
      "cell_type": "code",
      "source": [
        "alpha = 0.5\n",
        "\n",
        "for indice in indices:\n",
        "\n",
        "  # X1 elemento del conjunto de entrenamiento\n",
        "  X1 = X[indice].reshape( (-1, 5))\n",
        "  # Respuesta esperada\n",
        "  D1 = Y[indice]\n",
        "  # Respuesta obtenida de X con W\n",
        "  Y1 = signo(X1.dot(W))\n",
        "\n",
        "  #Ajuste de pesos\n",
        "  W  = W + alpha * (D1 - Y1) * X1.T\n",
        "\n"
      ],
      "metadata": {
        "colab": {
          "base_uri": "https://localhost:8080/"
        },
        "collapsed": true,
        "id": "V29hIK7T8H6N",
        "outputId": "85294bc9-41c6-4e40-97e3-c6018025097d"
      },
      "execution_count": null,
      "outputs": [
        {
          "output_type": "stream",
          "name": "stdout",
          "text": [
            "[[-0.91301567]\n",
            " [-6.70365934]\n",
            " [-2.97961417]\n",
            " [-5.43664846]\n",
            " [-2.05676488]]\n",
            "[[ 0.08698433]\n",
            " [-1.80365934]\n",
            " [ 0.12038583]\n",
            " [-3.93664846]\n",
            " [-1.95676488]]\n",
            "[[ 0.08698433]\n",
            " [-1.80365934]\n",
            " [ 0.12038583]\n",
            " [-3.93664846]\n",
            " [-1.95676488]]\n",
            "[[ 0.08698433]\n",
            " [-1.80365934]\n",
            " [ 0.12038583]\n",
            " [-3.93664846]\n",
            " [-1.95676488]]\n",
            "[[ 0.08698433]\n",
            " [-1.80365934]\n",
            " [ 0.12038583]\n",
            " [-3.93664846]\n",
            " [-1.95676488]]\n",
            "[[ 0.08698433]\n",
            " [-1.80365934]\n",
            " [ 0.12038583]\n",
            " [-3.93664846]\n",
            " [-1.95676488]]\n",
            "[[ 0.08698433]\n",
            " [-1.80365934]\n",
            " [ 0.12038583]\n",
            " [-3.93664846]\n",
            " [-1.95676488]]\n",
            "[[ 0.08698433]\n",
            " [-1.80365934]\n",
            " [ 0.12038583]\n",
            " [-3.93664846]\n",
            " [-1.95676488]]\n",
            "[[ 0.08698433]\n",
            " [-1.80365934]\n",
            " [ 0.12038583]\n",
            " [-3.93664846]\n",
            " [-1.95676488]]\n",
            "[[ 0.08698433]\n",
            " [-1.80365934]\n",
            " [ 0.12038583]\n",
            " [-3.93664846]\n",
            " [-1.95676488]]\n",
            "[[ 0.08698433]\n",
            " [-1.80365934]\n",
            " [ 0.12038583]\n",
            " [-3.93664846]\n",
            " [-1.95676488]]\n",
            "[[ 0.08698433]\n",
            " [-1.80365934]\n",
            " [ 0.12038583]\n",
            " [-3.93664846]\n",
            " [-1.95676488]]\n",
            "[[ 0.08698433]\n",
            " [-1.80365934]\n",
            " [ 0.12038583]\n",
            " [-3.93664846]\n",
            " [-1.95676488]]\n",
            "[[ 1.08698433]\n",
            " [ 3.29634066]\n",
            " [ 3.62038583]\n",
            " [-2.53664846]\n",
            " [-1.75676488]]\n",
            "[[ 0.08698433]\n",
            " [-3.20365934]\n",
            " [ 0.62038583]\n",
            " [-7.73664846]\n",
            " [-3.75676488]]\n",
            "[[ 0.08698433]\n",
            " [-3.20365934]\n",
            " [ 0.62038583]\n",
            " [-7.73664846]\n",
            " [-3.75676488]]\n",
            "[[ 0.08698433]\n",
            " [-3.20365934]\n",
            " [ 0.62038583]\n",
            " [-7.73664846]\n",
            " [-3.75676488]]\n",
            "[[ 0.08698433]\n",
            " [-3.20365934]\n",
            " [ 0.62038583]\n",
            " [-7.73664846]\n",
            " [-3.75676488]]\n",
            "[[ 1.08698433]\n",
            " [ 2.19634066]\n",
            " [ 4.02038583]\n",
            " [-6.03664846]\n",
            " [-3.55676488]]\n",
            "[[ 1.08698433]\n",
            " [ 2.19634066]\n",
            " [ 4.02038583]\n",
            " [-6.03664846]\n",
            " [-3.55676488]]\n",
            "[[ 1.08698433]\n",
            " [ 2.19634066]\n",
            " [ 4.02038583]\n",
            " [-6.03664846]\n",
            " [-3.55676488]]\n",
            "[[ 1.08698433]\n",
            " [ 2.19634066]\n",
            " [ 4.02038583]\n",
            " [-6.03664846]\n",
            " [-3.55676488]]\n",
            "[[ 1.08698433]\n",
            " [ 2.19634066]\n",
            " [ 4.02038583]\n",
            " [-6.03664846]\n",
            " [-3.55676488]]\n",
            "[[ 1.08698433]\n",
            " [ 2.19634066]\n",
            " [ 4.02038583]\n",
            " [-6.03664846]\n",
            " [-3.55676488]]\n",
            "[[ 1.08698433]\n",
            " [ 2.19634066]\n",
            " [ 4.02038583]\n",
            " [-6.03664846]\n",
            " [-3.55676488]]\n",
            "[[ 1.08698433]\n",
            " [ 2.19634066]\n",
            " [ 4.02038583]\n",
            " [-6.03664846]\n",
            " [-3.55676488]]\n",
            "[[ 1.08698433]\n",
            " [ 2.19634066]\n",
            " [ 4.02038583]\n",
            " [-6.03664846]\n",
            " [-3.55676488]]\n",
            "[[ 1.08698433]\n",
            " [ 2.19634066]\n",
            " [ 4.02038583]\n",
            " [-6.03664846]\n",
            " [-3.55676488]]\n",
            "[[ 1.08698433]\n",
            " [ 2.19634066]\n",
            " [ 4.02038583]\n",
            " [-6.03664846]\n",
            " [-3.55676488]]\n",
            "[[ 1.08698433]\n",
            " [ 2.19634066]\n",
            " [ 4.02038583]\n",
            " [-6.03664846]\n",
            " [-3.55676488]]\n",
            "[[ 1.08698433]\n",
            " [ 2.19634066]\n",
            " [ 4.02038583]\n",
            " [-6.03664846]\n",
            " [-3.55676488]]\n",
            "[[ 1.08698433]\n",
            " [ 2.19634066]\n",
            " [ 4.02038583]\n",
            " [-6.03664846]\n",
            " [-3.55676488]]\n",
            "[[ 1.08698433]\n",
            " [ 2.19634066]\n",
            " [ 4.02038583]\n",
            " [-6.03664846]\n",
            " [-3.55676488]]\n",
            "[[ 1.08698433]\n",
            " [ 2.19634066]\n",
            " [ 4.02038583]\n",
            " [-6.03664846]\n",
            " [-3.55676488]]\n",
            "[[ 1.08698433]\n",
            " [ 2.19634066]\n",
            " [ 4.02038583]\n",
            " [-6.03664846]\n",
            " [-3.55676488]]\n",
            "[[ 1.08698433]\n",
            " [ 2.19634066]\n",
            " [ 4.02038583]\n",
            " [-6.03664846]\n",
            " [-3.55676488]]\n",
            "[[ 1.08698433]\n",
            " [ 2.19634066]\n",
            " [ 4.02038583]\n",
            " [-6.03664846]\n",
            " [-3.55676488]]\n",
            "[[ 1.08698433]\n",
            " [ 2.19634066]\n",
            " [ 4.02038583]\n",
            " [-6.03664846]\n",
            " [-3.55676488]]\n",
            "[[ 1.08698433]\n",
            " [ 2.19634066]\n",
            " [ 4.02038583]\n",
            " [-6.03664846]\n",
            " [-3.55676488]]\n",
            "[[ 1.08698433]\n",
            " [ 2.19634066]\n",
            " [ 4.02038583]\n",
            " [-6.03664846]\n",
            " [-3.55676488]]\n",
            "[[ 1.08698433]\n",
            " [ 2.19634066]\n",
            " [ 4.02038583]\n",
            " [-6.03664846]\n",
            " [-3.55676488]]\n",
            "[[ 1.08698433]\n",
            " [ 2.19634066]\n",
            " [ 4.02038583]\n",
            " [-6.03664846]\n",
            " [-3.55676488]]\n",
            "[[ 1.08698433]\n",
            " [ 2.19634066]\n",
            " [ 4.02038583]\n",
            " [-6.03664846]\n",
            " [-3.55676488]]\n",
            "[[ 1.08698433]\n",
            " [ 2.19634066]\n",
            " [ 4.02038583]\n",
            " [-6.03664846]\n",
            " [-3.55676488]]\n",
            "[[ 1.08698433]\n",
            " [ 2.19634066]\n",
            " [ 4.02038583]\n",
            " [-6.03664846]\n",
            " [-3.55676488]]\n",
            "[[ 1.08698433]\n",
            " [ 2.19634066]\n",
            " [ 4.02038583]\n",
            " [-6.03664846]\n",
            " [-3.55676488]]\n",
            "[[ 1.08698433]\n",
            " [ 2.19634066]\n",
            " [ 4.02038583]\n",
            " [-6.03664846]\n",
            " [-3.55676488]]\n",
            "[[ 1.08698433]\n",
            " [ 2.19634066]\n",
            " [ 4.02038583]\n",
            " [-6.03664846]\n",
            " [-3.55676488]]\n",
            "[[ 1.08698433]\n",
            " [ 2.19634066]\n",
            " [ 4.02038583]\n",
            " [-6.03664846]\n",
            " [-3.55676488]]\n",
            "[[ 1.08698433]\n",
            " [ 2.19634066]\n",
            " [ 4.02038583]\n",
            " [-6.03664846]\n",
            " [-3.55676488]]\n",
            "[[ 1.08698433]\n",
            " [ 2.19634066]\n",
            " [ 4.02038583]\n",
            " [-6.03664846]\n",
            " [-3.55676488]]\n",
            "[[ 1.08698433]\n",
            " [ 2.19634066]\n",
            " [ 4.02038583]\n",
            " [-6.03664846]\n",
            " [-3.55676488]]\n",
            "[[ 1.08698433]\n",
            " [ 2.19634066]\n",
            " [ 4.02038583]\n",
            " [-6.03664846]\n",
            " [-3.55676488]]\n",
            "[[ 1.08698433]\n",
            " [ 2.19634066]\n",
            " [ 4.02038583]\n",
            " [-6.03664846]\n",
            " [-3.55676488]]\n",
            "[[ 1.08698433]\n",
            " [ 2.19634066]\n",
            " [ 4.02038583]\n",
            " [-6.03664846]\n",
            " [-3.55676488]]\n",
            "[[ 1.08698433]\n",
            " [ 2.19634066]\n",
            " [ 4.02038583]\n",
            " [-6.03664846]\n",
            " [-3.55676488]]\n",
            "[[ 1.08698433]\n",
            " [ 2.19634066]\n",
            " [ 4.02038583]\n",
            " [-6.03664846]\n",
            " [-3.55676488]]\n",
            "[[ 1.08698433]\n",
            " [ 2.19634066]\n",
            " [ 4.02038583]\n",
            " [-6.03664846]\n",
            " [-3.55676488]]\n",
            "[[ 1.08698433]\n",
            " [ 2.19634066]\n",
            " [ 4.02038583]\n",
            " [-6.03664846]\n",
            " [-3.55676488]]\n",
            "[[ 1.08698433]\n",
            " [ 2.19634066]\n",
            " [ 4.02038583]\n",
            " [-6.03664846]\n",
            " [-3.55676488]]\n",
            "[[ 1.08698433]\n",
            " [ 2.19634066]\n",
            " [ 4.02038583]\n",
            " [-6.03664846]\n",
            " [-3.55676488]]\n",
            "[[ 1.08698433]\n",
            " [ 2.19634066]\n",
            " [ 4.02038583]\n",
            " [-6.03664846]\n",
            " [-3.55676488]]\n",
            "[[ 1.08698433]\n",
            " [ 2.19634066]\n",
            " [ 4.02038583]\n",
            " [-6.03664846]\n",
            " [-3.55676488]]\n",
            "[[ 1.08698433]\n",
            " [ 2.19634066]\n",
            " [ 4.02038583]\n",
            " [-6.03664846]\n",
            " [-3.55676488]]\n",
            "[[ 1.08698433]\n",
            " [ 2.19634066]\n",
            " [ 4.02038583]\n",
            " [-6.03664846]\n",
            " [-3.55676488]]\n",
            "[[ 1.08698433]\n",
            " [ 2.19634066]\n",
            " [ 4.02038583]\n",
            " [-6.03664846]\n",
            " [-3.55676488]]\n",
            "[[ 1.08698433]\n",
            " [ 2.19634066]\n",
            " [ 4.02038583]\n",
            " [-6.03664846]\n",
            " [-3.55676488]]\n",
            "[[ 1.08698433]\n",
            " [ 2.19634066]\n",
            " [ 4.02038583]\n",
            " [-6.03664846]\n",
            " [-3.55676488]]\n",
            "[[ 1.08698433]\n",
            " [ 2.19634066]\n",
            " [ 4.02038583]\n",
            " [-6.03664846]\n",
            " [-3.55676488]]\n",
            "[[ 1.08698433]\n",
            " [ 2.19634066]\n",
            " [ 4.02038583]\n",
            " [-6.03664846]\n",
            " [-3.55676488]]\n",
            "[[ 1.08698433]\n",
            " [ 2.19634066]\n",
            " [ 4.02038583]\n",
            " [-6.03664846]\n",
            " [-3.55676488]]\n",
            "[[ 0.08698433]\n",
            " [-2.90365934]\n",
            " [ 1.52038583]\n",
            " [-9.03664846]\n",
            " [-4.65676488]]\n",
            "[[ 1.08698433]\n",
            " [ 2.09634066]\n",
            " [ 4.92038583]\n",
            " [-7.43664846]\n",
            " [-4.25676488]]\n",
            "[[ 1.08698433]\n",
            " [ 2.09634066]\n",
            " [ 4.92038583]\n",
            " [-7.43664846]\n",
            " [-4.25676488]]\n",
            "[[ 1.08698433]\n",
            " [ 2.09634066]\n",
            " [ 4.92038583]\n",
            " [-7.43664846]\n",
            " [-4.25676488]]\n",
            "[[ 1.08698433]\n",
            " [ 2.09634066]\n",
            " [ 4.92038583]\n",
            " [-7.43664846]\n",
            " [-4.25676488]]\n",
            "[[ 1.08698433]\n",
            " [ 2.09634066]\n",
            " [ 4.92038583]\n",
            " [-7.43664846]\n",
            " [-4.25676488]]\n",
            "[[ 1.08698433]\n",
            " [ 2.09634066]\n",
            " [ 4.92038583]\n",
            " [-7.43664846]\n",
            " [-4.25676488]]\n",
            "[[ 1.08698433]\n",
            " [ 2.09634066]\n",
            " [ 4.92038583]\n",
            " [-7.43664846]\n",
            " [-4.25676488]]\n",
            "[[ 1.08698433]\n",
            " [ 2.09634066]\n",
            " [ 4.92038583]\n",
            " [-7.43664846]\n",
            " [-4.25676488]]\n",
            "[[ 1.08698433]\n",
            " [ 2.09634066]\n",
            " [ 4.92038583]\n",
            " [-7.43664846]\n",
            " [-4.25676488]]\n",
            "[[ 1.08698433]\n",
            " [ 2.09634066]\n",
            " [ 4.92038583]\n",
            " [-7.43664846]\n",
            " [-4.25676488]]\n",
            "[[ 1.08698433]\n",
            " [ 2.09634066]\n",
            " [ 4.92038583]\n",
            " [-7.43664846]\n",
            " [-4.25676488]]\n",
            "[[ 1.08698433]\n",
            " [ 2.09634066]\n",
            " [ 4.92038583]\n",
            " [-7.43664846]\n",
            " [-4.25676488]]\n",
            "[[ 1.08698433]\n",
            " [ 2.09634066]\n",
            " [ 4.92038583]\n",
            " [-7.43664846]\n",
            " [-4.25676488]]\n",
            "[[ 1.08698433]\n",
            " [ 2.09634066]\n",
            " [ 4.92038583]\n",
            " [-7.43664846]\n",
            " [-4.25676488]]\n",
            "[[ 1.08698433]\n",
            " [ 2.09634066]\n",
            " [ 4.92038583]\n",
            " [-7.43664846]\n",
            " [-4.25676488]]\n",
            "[[ 1.08698433]\n",
            " [ 2.09634066]\n",
            " [ 4.92038583]\n",
            " [-7.43664846]\n",
            " [-4.25676488]]\n",
            "[[ 1.08698433]\n",
            " [ 2.09634066]\n",
            " [ 4.92038583]\n",
            " [-7.43664846]\n",
            " [-4.25676488]]\n",
            "[[ 1.08698433]\n",
            " [ 2.09634066]\n",
            " [ 4.92038583]\n",
            " [-7.43664846]\n",
            " [-4.25676488]]\n",
            "[[ 1.08698433]\n",
            " [ 2.09634066]\n",
            " [ 4.92038583]\n",
            " [-7.43664846]\n",
            " [-4.25676488]]\n",
            "[[ 1.08698433]\n",
            " [ 2.09634066]\n",
            " [ 4.92038583]\n",
            " [-7.43664846]\n",
            " [-4.25676488]]\n",
            "[[ 1.08698433]\n",
            " [ 2.09634066]\n",
            " [ 4.92038583]\n",
            " [-7.43664846]\n",
            " [-4.25676488]]\n",
            "[[ 1.08698433]\n",
            " [ 2.09634066]\n",
            " [ 4.92038583]\n",
            " [-7.43664846]\n",
            " [-4.25676488]]\n",
            "[[ 1.08698433]\n",
            " [ 2.09634066]\n",
            " [ 4.92038583]\n",
            " [-7.43664846]\n",
            " [-4.25676488]]\n",
            "[[ 1.08698433]\n",
            " [ 2.09634066]\n",
            " [ 4.92038583]\n",
            " [-7.43664846]\n",
            " [-4.25676488]]\n",
            "[[ 1.08698433]\n",
            " [ 2.09634066]\n",
            " [ 4.92038583]\n",
            " [-7.43664846]\n",
            " [-4.25676488]]\n",
            "[[ 1.08698433]\n",
            " [ 2.09634066]\n",
            " [ 4.92038583]\n",
            " [-7.43664846]\n",
            " [-4.25676488]]\n",
            "[[ 1.08698433]\n",
            " [ 2.09634066]\n",
            " [ 4.92038583]\n",
            " [-7.43664846]\n",
            " [-4.25676488]]\n",
            "[[ 1.08698433]\n",
            " [ 2.09634066]\n",
            " [ 4.92038583]\n",
            " [-7.43664846]\n",
            " [-4.25676488]]\n",
            "[[ 1.08698433]\n",
            " [ 2.09634066]\n",
            " [ 4.92038583]\n",
            " [-7.43664846]\n",
            " [-4.25676488]]\n",
            "[[ 1.08698433]\n",
            " [ 2.09634066]\n",
            " [ 4.92038583]\n",
            " [-7.43664846]\n",
            " [-4.25676488]]\n",
            "[[ 1.08698433]\n",
            " [ 2.09634066]\n",
            " [ 4.92038583]\n",
            " [-7.43664846]\n",
            " [-4.25676488]]\n",
            "[[ 1.08698433]\n",
            " [ 2.09634066]\n",
            " [ 4.92038583]\n",
            " [-7.43664846]\n",
            " [-4.25676488]]\n",
            "[[ 1.08698433]\n",
            " [ 2.09634066]\n",
            " [ 4.92038583]\n",
            " [-7.43664846]\n",
            " [-4.25676488]]\n",
            "[[ 1.08698433]\n",
            " [ 2.09634066]\n",
            " [ 4.92038583]\n",
            " [-7.43664846]\n",
            " [-4.25676488]]\n",
            "[[ 1.08698433]\n",
            " [ 2.09634066]\n",
            " [ 4.92038583]\n",
            " [-7.43664846]\n",
            " [-4.25676488]]\n",
            "[[ 1.08698433]\n",
            " [ 2.09634066]\n",
            " [ 4.92038583]\n",
            " [-7.43664846]\n",
            " [-4.25676488]]\n",
            "[[ 1.08698433]\n",
            " [ 2.09634066]\n",
            " [ 4.92038583]\n",
            " [-7.43664846]\n",
            " [-4.25676488]]\n",
            "[[ 1.08698433]\n",
            " [ 2.09634066]\n",
            " [ 4.92038583]\n",
            " [-7.43664846]\n",
            " [-4.25676488]]\n",
            "[[ 1.08698433]\n",
            " [ 2.09634066]\n",
            " [ 4.92038583]\n",
            " [-7.43664846]\n",
            " [-4.25676488]]\n",
            "[[ 1.08698433]\n",
            " [ 2.09634066]\n",
            " [ 4.92038583]\n",
            " [-7.43664846]\n",
            " [-4.25676488]]\n",
            "[[ 1.08698433]\n",
            " [ 2.09634066]\n",
            " [ 4.92038583]\n",
            " [-7.43664846]\n",
            " [-4.25676488]]\n",
            "[[ 1.08698433]\n",
            " [ 2.09634066]\n",
            " [ 4.92038583]\n",
            " [-7.43664846]\n",
            " [-4.25676488]]\n",
            "[[ 1.08698433]\n",
            " [ 2.09634066]\n",
            " [ 4.92038583]\n",
            " [-7.43664846]\n",
            " [-4.25676488]]\n",
            "[[ 1.08698433]\n",
            " [ 2.09634066]\n",
            " [ 4.92038583]\n",
            " [-7.43664846]\n",
            " [-4.25676488]]\n",
            "[[ 1.08698433]\n",
            " [ 2.09634066]\n",
            " [ 4.92038583]\n",
            " [-7.43664846]\n",
            " [-4.25676488]]\n",
            "[[ 1.08698433]\n",
            " [ 2.09634066]\n",
            " [ 4.92038583]\n",
            " [-7.43664846]\n",
            " [-4.25676488]]\n",
            "[[ 1.08698433]\n",
            " [ 2.09634066]\n",
            " [ 4.92038583]\n",
            " [-7.43664846]\n",
            " [-4.25676488]]\n",
            "[[ 1.08698433]\n",
            " [ 2.09634066]\n",
            " [ 4.92038583]\n",
            " [-7.43664846]\n",
            " [-4.25676488]]\n",
            "[[ 1.08698433]\n",
            " [ 2.09634066]\n",
            " [ 4.92038583]\n",
            " [-7.43664846]\n",
            " [-4.25676488]]\n",
            "[[ 1.08698433]\n",
            " [ 2.09634066]\n",
            " [ 4.92038583]\n",
            " [-7.43664846]\n",
            " [-4.25676488]]\n",
            "[[ 1.08698433]\n",
            " [ 2.09634066]\n",
            " [ 4.92038583]\n",
            " [-7.43664846]\n",
            " [-4.25676488]]\n",
            "[[ 1.08698433]\n",
            " [ 2.09634066]\n",
            " [ 4.92038583]\n",
            " [-7.43664846]\n",
            " [-4.25676488]]\n",
            "[[ 1.08698433]\n",
            " [ 2.09634066]\n",
            " [ 4.92038583]\n",
            " [-7.43664846]\n",
            " [-4.25676488]]\n",
            "[[ 1.08698433]\n",
            " [ 2.09634066]\n",
            " [ 4.92038583]\n",
            " [-7.43664846]\n",
            " [-4.25676488]]\n",
            "[[ 1.08698433]\n",
            " [ 2.09634066]\n",
            " [ 4.92038583]\n",
            " [-7.43664846]\n",
            " [-4.25676488]]\n",
            "[[ 1.08698433]\n",
            " [ 2.09634066]\n",
            " [ 4.92038583]\n",
            " [-7.43664846]\n",
            " [-4.25676488]]\n",
            "[[ 1.08698433]\n",
            " [ 2.09634066]\n",
            " [ 4.92038583]\n",
            " [-7.43664846]\n",
            " [-4.25676488]]\n",
            "[[ 1.08698433]\n",
            " [ 2.09634066]\n",
            " [ 4.92038583]\n",
            " [-7.43664846]\n",
            " [-4.25676488]]\n",
            "[[ 1.08698433]\n",
            " [ 2.09634066]\n",
            " [ 4.92038583]\n",
            " [-7.43664846]\n",
            " [-4.25676488]]\n",
            "[[ 1.08698433]\n",
            " [ 2.09634066]\n",
            " [ 4.92038583]\n",
            " [-7.43664846]\n",
            " [-4.25676488]]\n",
            "[[ 1.08698433]\n",
            " [ 2.09634066]\n",
            " [ 4.92038583]\n",
            " [-7.43664846]\n",
            " [-4.25676488]]\n",
            "[[ 1.08698433]\n",
            " [ 2.09634066]\n",
            " [ 4.92038583]\n",
            " [-7.43664846]\n",
            " [-4.25676488]]\n",
            "[[ 1.08698433]\n",
            " [ 2.09634066]\n",
            " [ 4.92038583]\n",
            " [-7.43664846]\n",
            " [-4.25676488]]\n",
            "[[ 1.08698433]\n",
            " [ 2.09634066]\n",
            " [ 4.92038583]\n",
            " [-7.43664846]\n",
            " [-4.25676488]]\n",
            "[[ 1.08698433]\n",
            " [ 2.09634066]\n",
            " [ 4.92038583]\n",
            " [-7.43664846]\n",
            " [-4.25676488]]\n",
            "[[ 1.08698433]\n",
            " [ 2.09634066]\n",
            " [ 4.92038583]\n",
            " [-7.43664846]\n",
            " [-4.25676488]]\n",
            "[[ 1.08698433]\n",
            " [ 2.09634066]\n",
            " [ 4.92038583]\n",
            " [-7.43664846]\n",
            " [-4.25676488]]\n",
            "[[ 1.08698433]\n",
            " [ 2.09634066]\n",
            " [ 4.92038583]\n",
            " [-7.43664846]\n",
            " [-4.25676488]]\n",
            "[[ 1.08698433]\n",
            " [ 2.09634066]\n",
            " [ 4.92038583]\n",
            " [-7.43664846]\n",
            " [-4.25676488]]\n",
            "[[ 1.08698433]\n",
            " [ 2.09634066]\n",
            " [ 4.92038583]\n",
            " [-7.43664846]\n",
            " [-4.25676488]]\n",
            "[[ 1.08698433]\n",
            " [ 2.09634066]\n",
            " [ 4.92038583]\n",
            " [-7.43664846]\n",
            " [-4.25676488]]\n",
            "[[ 1.08698433]\n",
            " [ 2.09634066]\n",
            " [ 4.92038583]\n",
            " [-7.43664846]\n",
            " [-4.25676488]]\n",
            "[[ 1.08698433]\n",
            " [ 2.09634066]\n",
            " [ 4.92038583]\n",
            " [-7.43664846]\n",
            " [-4.25676488]]\n",
            "[[ 1.08698433]\n",
            " [ 2.09634066]\n",
            " [ 4.92038583]\n",
            " [-7.43664846]\n",
            " [-4.25676488]]\n",
            "[[ 1.08698433]\n",
            " [ 2.09634066]\n",
            " [ 4.92038583]\n",
            " [-7.43664846]\n",
            " [-4.25676488]]\n",
            "[[ 1.08698433]\n",
            " [ 2.09634066]\n",
            " [ 4.92038583]\n",
            " [-7.43664846]\n",
            " [-4.25676488]]\n",
            "[[ 1.08698433]\n",
            " [ 2.09634066]\n",
            " [ 4.92038583]\n",
            " [-7.43664846]\n",
            " [-4.25676488]]\n",
            "[[ 1.08698433]\n",
            " [ 2.09634066]\n",
            " [ 4.92038583]\n",
            " [-7.43664846]\n",
            " [-4.25676488]]\n"
          ]
        }
      ]
    },
    {
      "cell_type": "code",
      "source": [
        "((signo(X.dot(W)).reshape((150)) == Y.reshape( (150) ) )*1).mean()"
      ],
      "metadata": {
        "colab": {
          "base_uri": "https://localhost:8080/"
        },
        "id": "pzxP92nt-rr5",
        "outputId": "25a9c279-4bf6-4668-91fa-27c4dea4d157"
      },
      "execution_count": null,
      "outputs": [
        {
          "output_type": "execute_result",
          "data": {
            "text/plain": [
              "1.0"
            ]
          },
          "metadata": {},
          "execution_count": 128
        }
      ]
    },
    {
      "cell_type": "markdown",
      "source": [
        "·"
      ],
      "metadata": {
        "id": "VXmCQZ-y2if1"
      }
    }
  ]
}